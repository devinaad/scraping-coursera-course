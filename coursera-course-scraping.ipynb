{
 "cells": [
  {
   "cell_type": "markdown",
   "id": "ae30f545",
   "metadata": {
    "papermill": {
     "duration": 0.005383,
     "end_time": "2024-01-23T02:01:50.816547",
     "exception": false,
     "start_time": "2024-01-23T02:01:50.811164",
     "status": "completed"
    },
    "tags": []
   },
   "source": [
    "## **📦 Importing Libraries**\n",
    "\n",
    "- `BeautifulSoup` from `bs4`: Used for parsing HTML and XML documents. It's helpful for web scraping and navigating the structure of web pages.\n",
    "- `requests`: Allows sending HTTP/1.1 requests easily. Used here to fetch the content of web pages.\n",
    "- `pandas`: A powerful data manipulation and analysis library. Useful for storing and handling data in structured formats like DataFrames.\n"
   ]
  },
  {
   "cell_type": "code",
   "execution_count": 28,
   "id": "81e6f220",
   "metadata": {
    "_cell_guid": "b1076dfc-b9ad-4769-8c92-a6c4dae69d19",
    "_uuid": "8f2839f25d086af736a60e9eeb907d3b93b6e0e5",
    "execution": {
     "iopub.execute_input": "2024-01-23T02:01:50.829602Z",
     "iopub.status.busy": "2024-01-23T02:01:50.829071Z",
     "iopub.status.idle": "2024-01-23T02:01:51.546474Z",
     "shell.execute_reply": "2024-01-23T02:01:51.545309Z"
    },
    "papermill": {
     "duration": 0.727337,
     "end_time": "2024-01-23T02:01:51.549419",
     "exception": false,
     "start_time": "2024-01-23T02:01:50.822082",
     "status": "completed"
    },
    "tags": []
   },
   "outputs": [],
   "source": [
    "import requests\n",
    "from bs4 import BeautifulSoup\n",
    "from urllib.parse import quote_plus\n",
    "import pandas as pd"
   ]
  },
  {
   "cell_type": "markdown",
   "id": "6acc07b2",
   "metadata": {
    "papermill": {
     "duration": 0.005306,
     "end_time": "2024-01-23T02:01:51.560716",
     "exception": false,
     "start_time": "2024-01-23T02:01:51.555410",
     "status": "completed"
    },
    "tags": []
   },
   "source": [
    "## **🔧 Define scraping funtion**\n",
    "\n",
    "---\n",
    "\n",
    "### Function: `auto_Scrapper_Class()`\n",
    "\n",
    "This function extracts course information like titles, organizations, difficulty levels, and skills by parsing the HTML of Coursera's search results.\n",
    "\n",
    "#### Parameters:\n",
    "- **`user_query (str)`**: The keyword to search courses for (e.g., `\"data science\"`).\n",
    "- **`number_page (int)`**: The number of result pages to scrape.\n",
    "- **`html_tag (str)`**: The HTML tag used to find content (e.g., `h3`, `p`).\n",
    "- **`course_case (list)`**: A list to store the extracted content.\n",
    "- **`tag_class (str)`**: The class name associated with the tag (used to target the correct element).\n",
    "- **`div_class (str, optional)`**: Optional class if the target element is a `<div>` (used for metadata or skill sections).\n",
    "\n",
    "#### Function Logic:\n",
    "1. Encodes the user query for use in a URL.\n",
    "2. Iterates through pages of Coursera search results.\n",
    "3. Fetches HTML content and parses it with BeautifulSoup.\n",
    "4. Depending on tag and class parameters, extracts desired data.\n",
    "5. Appends found data to the provided list, ensuring consistent list size even if data is missing.\n",
    "\n",
    "---"
   ]
  },
  {
   "cell_type": "code",
   "execution_count": 29,
   "id": "82a02c77",
   "metadata": {},
   "outputs": [],
   "source": [
    "def auto_Scrapper_Class(user_query, html_tag, course_case, tag_class, div_class=None):\n",
    "    \"\"\"\n",
    "    Scrap course titles or info from Coursera based on user input query.\n",
    "    \n",
    "    Parameters:\n",
    "    - user_query (str): the search keyword from user, e.g., \"data science\"\n",
    "    - html_tag (str): HTML tag to look for\n",
    "    - course_case (list): list to store the results\n",
    "    - tag_class (str): class of the target HTML tag\n",
    "    - div_class (str, optional): class of <div> if that's what is being targeted\n",
    "    \"\"\"\n",
    "    encoded_query = quote_plus(user_query)\n",
    "\n",
    "    for i in range(1,50): # adjust as needed, according to current coursera website, there are 83 pages for all courses\n",
    "        url = f\"https://www.coursera.org/search?query={encoded_query}&page=\" +str(i)\n",
    "        \n",
    "        page = requests.get(url)\n",
    "        soup = BeautifulSoup(page.content, 'html.parser')\n",
    "\n",
    "        if div_class:\n",
    "            elements = soup.find_all('div',  class_ = div_class)\n",
    "\n",
    "            if (len(elements)) != 12:  \n",
    "                for j in range(0,12):    # There are 12 courses per page\n",
    "                    course_case.append(None)\n",
    "                continue\n",
    "            for name in elements:\n",
    "                x = name.get_text()\n",
    "                if x:\n",
    "                    course_case.append(x)\n",
    "                else:\n",
    "                    course_case.append(None)\n",
    "\n",
    "        else:\n",
    "            element = soup.find_all(html_tag,  class_ = tag_class)\n",
    "            if (len(element)) != 12:\n",
    "                for j in range(0,12):\n",
    "                    course_case.append(None)\n",
    "                continue\n",
    "\n",
    "            for name in element:\n",
    "                x = name.get_text()\n",
    "                if x:\n",
    "                    course_case.append(x)\n",
    "                else:\n",
    "                    course_case.append(\"\")\n"
   ]
  },
  {
   "cell_type": "markdown",
   "id": "a7c9b689",
   "metadata": {},
   "source": [
    "### 📥 User Input:"
   ]
  },
  {
   "cell_type": "code",
   "execution_count": null,
   "id": "055b4559",
   "metadata": {},
   "outputs": [],
   "source": [
    "user_query = input(\"Enter the course you want to search: \")"
   ]
  },
  {
   "cell_type": "markdown",
   "id": "e6fd9153",
   "metadata": {},
   "source": [
    "### 📄 Lists to Store Scraped Data:"
   ]
  },
  {
   "cell_type": "code",
   "execution_count": 31,
   "id": "f625be52",
   "metadata": {
    "execution": {
     "iopub.execute_input": "2024-01-23T02:01:51.601477Z",
     "iopub.status.busy": "2024-01-23T02:01:51.601044Z",
     "iopub.status.idle": "2024-01-23T02:01:51.606581Z",
     "shell.execute_reply": "2024-01-23T02:01:51.605658Z"
    },
    "papermill": {
     "duration": 0.01475,
     "end_time": "2024-01-23T02:01:51.608698",
     "exception": false,
     "start_time": "2024-01-23T02:01:51.593948",
     "status": "completed"
    },
    "tags": []
   },
   "outputs": [],
   "source": [
    "course_title = []\n",
    "course_organization = []\n",
    "course_Certificate_type = []\n",
    "course_difficulty = []\n",
    "course_skills = []"
   ]
  },
  {
   "cell_type": "markdown",
   "id": "be1d5e80",
   "metadata": {},
   "source": [
    "### ⚙️ Function Usage:\n",
    "Each call to `auto_Scrapper_Class` scrapes a different part of the course info.\n",
    "\n",
    "1. **Course Title**  \n",
    "   Extracted from `<h3>` tags with class `cds-CommonCard-title`.\n",
    "\n",
    "2. **Course Organization**  \n",
    "   Extracted from `<p>` tags with class `cds-ProductCard-partnerNames`.\n",
    "\n",
    "3. **Course Difficulty**  \n",
    "   Extracted from `<p>` tags with class `css-vac8rf` inside `cds-CommonCard-metadata` `<div>`s.\n",
    "\n",
    "4. **Skills Taught**  \n",
    "   Extracted from `<p>` tags with class `css-vac8rf` inside `cds-CommonCard-bodyContent` `<div>`s.\n"
   ]
  },
  {
   "cell_type": "code",
   "execution_count": 32,
   "id": "02b553b7",
   "metadata": {},
   "outputs": [],
   "source": [
    "# 1. Course Title - Fixed class name\n",
    "auto_Scrapper_Class(user_query,'h3', course_title, 'cds-CommonCard-title')\n",
    "\n",
    "# 2. Course Organization - Fixed class name\n",
    "auto_Scrapper_Class(user_query,'p', course_organization, 'cds-ProductCard-partnerNames')\n",
    "\n",
    "# 3. Course Difficulty - Look in metadata section\n",
    "auto_Scrapper_Class(user_query,'p', course_difficulty, 'css-vac8rf', 'cds-CommonCard-metadata')\n",
    "\n",
    "# 4. Skills - Look in body content\n",
    "auto_Scrapper_Class(user_query,'p', course_skills, 'css-vac8rf', 'cds-CommonCard-bodyContent')    "
   ]
  },
  {
   "cell_type": "markdown",
   "id": "27a18213",
   "metadata": {
    "papermill": {
     "duration": 0.005829,
     "end_time": "2024-01-23T02:07:14.093298",
     "exception": false,
     "start_time": "2024-01-23T02:07:14.087469",
     "status": "completed"
    },
    "tags": []
   },
   "source": [
    "---\n",
    "## **🧹 Clean and Organize Scraped Data**\n",
    "\n",
    "After scraping, the data is compiled and cleaned using `pandas`.\n",
    "\n",
    "---"
   ]
  },
  {
   "cell_type": "code",
   "execution_count": 33,
   "id": "78e3ba87",
   "metadata": {
    "execution": {
     "iopub.execute_input": "2024-01-23T02:07:14.109939Z",
     "iopub.status.busy": "2024-01-23T02:07:14.109482Z",
     "iopub.status.idle": "2024-01-23T02:07:14.150146Z",
     "shell.execute_reply": "2024-01-23T02:07:14.148700Z"
    },
    "papermill": {
     "duration": 0.05271,
     "end_time": "2024-01-23T02:07:14.153226",
     "exception": false,
     "start_time": "2024-01-23T02:07:14.100516",
     "status": "completed"
    },
    "tags": []
   },
   "outputs": [
    {
     "data": {
      "text/html": [
       "<div>\n",
       "<style scoped>\n",
       "    .dataframe tbody tr th:only-of-type {\n",
       "        vertical-align: middle;\n",
       "    }\n",
       "\n",
       "    .dataframe tbody tr th {\n",
       "        vertical-align: top;\n",
       "    }\n",
       "\n",
       "    .dataframe thead th {\n",
       "        text-align: right;\n",
       "    }\n",
       "</style>\n",
       "<table border=\"1\" class=\"dataframe\">\n",
       "  <thead>\n",
       "    <tr style=\"text-align: right;\">\n",
       "      <th></th>\n",
       "      <th>Title</th>\n",
       "      <th>Organization</th>\n",
       "      <th>Skills</th>\n",
       "      <th>Metadata</th>\n",
       "    </tr>\n",
       "  </thead>\n",
       "  <tbody>\n",
       "    <tr>\n",
       "      <th>0</th>\n",
       "      <td>Machine Learning</td>\n",
       "      <td>Multiple educators</td>\n",
       "      <td>Unsupervised Learning, Supervised Learning, M...</td>\n",
       "      <td>Beginner · Specialization · 1 - 3 Months</td>\n",
       "    </tr>\n",
       "    <tr>\n",
       "      <th>1</th>\n",
       "      <td>Machine Learning with Python</td>\n",
       "      <td>IBM</td>\n",
       "      <td>Unsupervised Learning, Supervised Learning, R...</td>\n",
       "      <td>Intermediate · Course · 1 - 3 Months</td>\n",
       "    </tr>\n",
       "    <tr>\n",
       "      <th>2</th>\n",
       "      <td>Mathematics for Machine Learning and Data Science</td>\n",
       "      <td>DeepLearning.AI</td>\n",
       "      <td>Descriptive Statistics, Bayesian Statistics, ...</td>\n",
       "      <td>Intermediate · Specialization · 1 - 3 Months</td>\n",
       "    </tr>\n",
       "    <tr>\n",
       "      <th>3</th>\n",
       "      <td>IBM Machine Learning</td>\n",
       "      <td>IBM</td>\n",
       "      <td>Exploratory Data Analysis, Feature Engineerin...</td>\n",
       "      <td>Intermediate · Professional Certificate · 3 - ...</td>\n",
       "    </tr>\n",
       "    <tr>\n",
       "      <th>4</th>\n",
       "      <td>Python for Data Science, AI &amp; Development</td>\n",
       "      <td>IBM</td>\n",
       "      <td>Jupyter, Python Programming, Data Structures,...</td>\n",
       "      <td>Beginner · Course · 1 - 3 Months</td>\n",
       "    </tr>\n",
       "    <tr>\n",
       "      <th>...</th>\n",
       "      <td>...</td>\n",
       "      <td>...</td>\n",
       "      <td>...</td>\n",
       "      <td>...</td>\n",
       "    </tr>\n",
       "    <tr>\n",
       "      <th>583</th>\n",
       "      <td>Introduction to Artificial Intelligence (AI)</td>\n",
       "      <td>IBM</td>\n",
       "      <td>Generative AI, ChatGPT, Natural Language Proc...</td>\n",
       "      <td>Beginner · Course · 1 - 4 Weeks</td>\n",
       "    </tr>\n",
       "    <tr>\n",
       "      <th>584</th>\n",
       "      <td>Mathematics for Machine Learning</td>\n",
       "      <td>Imperial College London</td>\n",
       "      <td>Linear Algebra, Dimensionality Reduction, Num...</td>\n",
       "      <td>Beginner · Specialization · 3 - 6 Months</td>\n",
       "    </tr>\n",
       "    <tr>\n",
       "      <th>585</th>\n",
       "      <td>Fundamentals of Machine Learning and Artificia...</td>\n",
       "      <td>Amazon Web Services</td>\n",
       "      <td>Artificial Intelligence and Machine Learning ...</td>\n",
       "      <td>Mixed · Course · 1 - 4 Weeks</td>\n",
       "    </tr>\n",
       "    <tr>\n",
       "      <th>586</th>\n",
       "      <td>Supervised Machine Learning: Regression and Cl...</td>\n",
       "      <td>DeepLearning.AI</td>\n",
       "      <td>Supervised Learning, Jupyter, Scikit Learn (M...</td>\n",
       "      <td>Beginner · Course · 1 - 4 Weeks</td>\n",
       "    </tr>\n",
       "    <tr>\n",
       "      <th>587</th>\n",
       "      <td>Introduction to Machine Learning</td>\n",
       "      <td>Duke University</td>\n",
       "      <td>PyTorch (Machine Learning Library), Reinforce...</td>\n",
       "      <td>Intermediate · Course · 1 - 3 Months</td>\n",
       "    </tr>\n",
       "  </tbody>\n",
       "</table>\n",
       "<p>588 rows × 4 columns</p>\n",
       "</div>"
      ],
      "text/plain": [
       "                                                 Title  \\\n",
       "0                                     Machine Learning   \n",
       "1                         Machine Learning with Python   \n",
       "2    Mathematics for Machine Learning and Data Science   \n",
       "3                                 IBM Machine Learning   \n",
       "4            Python for Data Science, AI & Development   \n",
       "..                                                 ...   \n",
       "583       Introduction to Artificial Intelligence (AI)   \n",
       "584                   Mathematics for Machine Learning   \n",
       "585  Fundamentals of Machine Learning and Artificia...   \n",
       "586  Supervised Machine Learning: Regression and Cl...   \n",
       "587                   Introduction to Machine Learning   \n",
       "\n",
       "                Organization  \\\n",
       "0         Multiple educators   \n",
       "1                        IBM   \n",
       "2            DeepLearning.AI   \n",
       "3                        IBM   \n",
       "4                        IBM   \n",
       "..                       ...   \n",
       "583                      IBM   \n",
       "584  Imperial College London   \n",
       "585      Amazon Web Services   \n",
       "586          DeepLearning.AI   \n",
       "587          Duke University   \n",
       "\n",
       "                                                Skills  \\\n",
       "0     Unsupervised Learning, Supervised Learning, M...   \n",
       "1     Unsupervised Learning, Supervised Learning, R...   \n",
       "2     Descriptive Statistics, Bayesian Statistics, ...   \n",
       "3     Exploratory Data Analysis, Feature Engineerin...   \n",
       "4     Jupyter, Python Programming, Data Structures,...   \n",
       "..                                                 ...   \n",
       "583   Generative AI, ChatGPT, Natural Language Proc...   \n",
       "584   Linear Algebra, Dimensionality Reduction, Num...   \n",
       "585   Artificial Intelligence and Machine Learning ...   \n",
       "586   Supervised Learning, Jupyter, Scikit Learn (M...   \n",
       "587   PyTorch (Machine Learning Library), Reinforce...   \n",
       "\n",
       "                                              Metadata  \n",
       "0             Beginner · Specialization · 1 - 3 Months  \n",
       "1                 Intermediate · Course · 1 - 3 Months  \n",
       "2         Intermediate · Specialization · 1 - 3 Months  \n",
       "3    Intermediate · Professional Certificate · 3 - ...  \n",
       "4                     Beginner · Course · 1 - 3 Months  \n",
       "..                                                 ...  \n",
       "583                    Beginner · Course · 1 - 4 Weeks  \n",
       "584           Beginner · Specialization · 3 - 6 Months  \n",
       "585                       Mixed · Course · 1 - 4 Weeks  \n",
       "586                    Beginner · Course · 1 - 4 Weeks  \n",
       "587               Intermediate · Course · 1 - 3 Months  \n",
       "\n",
       "[588 rows x 4 columns]"
      ]
     },
     "execution_count": 33,
     "metadata": {},
     "output_type": "execute_result"
    }
   ],
   "source": [
    "data = {\n",
    "    'Title': course_title,\n",
    "    'Organization': course_organization,\n",
    "    'Skills': course_skills,\n",
    "    'Metadata': course_difficulty    \n",
    "}\n",
    "min_len = min(len(course_title), len(course_organization), len(course_skills), len(course_difficulty))\n",
    "data = {\n",
    "    'Title': course_title[:min_len],\n",
    "    'Organization': course_organization[:min_len],\n",
    "    'Skills': course_skills[:min_len],\n",
    "    'Metadata': course_difficulty[:min_len]\n",
    "}\n",
    "df = pd.DataFrame(data)\n",
    "df['Skills'] = df['Skills'].str.replace(\"Skills you'll gain:\", '', regex=False)\n",
    "df"
   ]
  },
  {
   "cell_type": "markdown",
   "id": "d62e4aa8",
   "metadata": {},
   "source": [
    "## **💾 Export Data to CSV**\n",
    "- This command saves the cleaned DataFrame `df` to a CSV file named `coursera_course_dataset.csv`.\n",
    "- The file will be created in the current working directory."
   ]
  },
  {
   "cell_type": "code",
   "execution_count": 34,
   "id": "c896eaef",
   "metadata": {
    "execution": {
     "iopub.execute_input": "2024-01-23T02:07:14.168735Z",
     "iopub.status.busy": "2024-01-23T02:07:14.168348Z",
     "iopub.status.idle": "2024-01-23T02:07:14.174463Z",
     "shell.execute_reply": "2024-01-23T02:07:14.172734Z"
    },
    "papermill": {
     "duration": 0.016941,
     "end_time": "2024-01-23T02:07:14.177015",
     "exception": false,
     "start_time": "2024-01-23T02:07:14.160074",
     "status": "completed"
    },
    "tags": []
   },
   "outputs": [],
   "source": [
    "df.to_csv(\"coursera_course_dataset.csv\")"
   ]
  }
 ],
 "metadata": {
  "kaggle": {
   "accelerator": "none",
   "dataSources": [],
   "dockerImageVersionId": 30635,
   "isGpuEnabled": false,
   "isInternetEnabled": true,
   "language": "python",
   "sourceType": "notebook"
  },
  "kernelspec": {
   "display_name": "Python 3",
   "language": "python",
   "name": "python3"
  },
  "language_info": {
   "codemirror_mode": {
    "name": "ipython",
    "version": 3
   },
   "file_extension": ".py",
   "mimetype": "text/x-python",
   "name": "python",
   "nbconvert_exporter": "python",
   "pygments_lexer": "ipython3",
   "version": "3.10.1"
  },
  "papermill": {
   "default_parameters": {},
   "duration": 327.495427,
   "end_time": "2024-01-23T02:07:14.834078",
   "environment_variables": {},
   "exception": null,
   "input_path": "__notebook__.ipynb",
   "output_path": "__notebook__.ipynb",
   "parameters": {},
   "start_time": "2024-01-23T02:01:47.338651",
   "version": "2.4.0"
  }
 },
 "nbformat": 4,
 "nbformat_minor": 5
}
